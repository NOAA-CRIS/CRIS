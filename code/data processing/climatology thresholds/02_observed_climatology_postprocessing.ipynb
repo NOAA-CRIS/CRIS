{
 "cells": [
  {
   "cell_type": "markdown",
   "id": "50067d69",
   "metadata": {},
   "source": [
    "Name: 02_observed_climatology_postprocessing<br>\n",
    "Description: Update multidimensional values. This notebook contains the code to update the StdTime dimension in a multidimensional file from a date range to year-end date value. This applies to files in the Esri CRF format.<br>\n",
    "Date: August 2024<br>\n",
    "Requirements: Python 3.11.10, xclim 0.47.0, xarray 2023.6.0<br>\n",
    "Author: Mark Gilbert, Principle GIS Engineer, ArcGIS Living Atlas of the World, Esri (mgilbert@esri.com)<br>"
   ]
  },
  {
   "cell_type": "markdown",
   "id": "dfd56a9b",
   "metadata": {},
   "source": [
    "### Python Imports"
   ]
  },
  {
   "cell_type": "code",
   "execution_count": 1,
   "id": "ce0a8e64",
   "metadata": {},
   "outputs": [],
   "source": [
    "import arcpy\n",
    "import xarray as xr\n",
    "import pandas as pd\n",
    "import os"
   ]
  },
  {
   "cell_type": "markdown",
   "id": "478fc5b6",
   "metadata": {},
   "source": [
    "### Environment Settings"
   ]
  },
  {
   "cell_type": "code",
   "execution_count": 2,
   "id": "5a4af6a9",
   "metadata": {},
   "outputs": [],
   "source": [
    "arcpy.env.overwriteOutput = True"
   ]
  },
  {
   "cell_type": "markdown",
   "id": "a8bb0722",
   "metadata": {},
   "source": [
    "### Input Data Lists"
   ]
  },
  {
   "cell_type": "code",
   "execution_count": null,
   "id": "b7c2fa43",
   "metadata": {},
   "outputs": [],
   "source": [
    "# Data values for the slices in these multidimensional CRF files are in range format. In order to match the files from NOAA, \n",
    "# the ranges need to be converted to a year-end date.\n",
    "# E.g. '1950-01-01 - 1950-12-31' becomes simply '1950-12-31'.\n",
    "#\n",
    "#  TODO: Uncomment the list you want to process.\n",
    "#  TODO: Replace the path with your own paths.\n",
    "#\n",
    "# in_ras_list = [\n",
    "#     r\"replace_with_your_path\\Livneh_pr-above-nonzero-99th_1950_2013_annual_inch.crf\",\n",
    "#     r\"replace_with_your_path\\Livneh_pr-above-nonzero-95th_1950_2013_annual_inch.crf\",\n",
    "#     r\"replace_with_your_path\\Livneh_pr-above-nonzero-90th_1950_2013_annual_inch.crf\",\n",
    "#     r\"replace_with_your_path\\Livneh_pr-days-above-nonzero-99th_1950_2013_annual.crf\",\n",
    "#     r\"replace_with_your_path\\Livneh_pr-days-above-nonzero-95th_1950_2013_annual.crf\",\n",
    "#     r\"replace_with_your_path\\Livneh_pr-days-above-nonzero-90th_1950_2013_annual.crf\",\n",
    "# ]\n",
    "# year_range = (1950, 2013) # Livneh\n",
    "\n",
    "in_ras_list = [\n",
    "    r\"replace_with_your_path\\nClimGrid_pr-above-nonzero-99th_1951_2023_annual_inch.crf\",\n",
    "    r\"replace_with_your_path\\nClimGrid_pr-above-nonzero-95th_1951_2023_annual_inch.crf\",\n",
    "    r\"replace_with_your_path\\nClimGrid_pr-above-nonzero-90th_1951_2023_annual_inch.crf\",\n",
    "    r\"replace_with_your_path\\nClimGrid_pr-days-above-nonzero-99th_1951_2023_annual.crf\",\n",
    "    r\"replace_with_your_path\\nClimGrid_pr-days-above-nonzero-95th_1951_2023_annual.crf\",\n",
    "    r\"replace_with_your_path\\nClimGrid_pr-days-above-nonzero-90th_1951_2023_annual.crf\"\n",
    "]\n",
    "year_range = (1951, 2023) # nclimgrid\n",
    "\n",
    "out_path = r\"D:\\Data\""
   ]
  },
  {
   "cell_type": "markdown",
   "id": "9ab5f35d",
   "metadata": {},
   "source": [
    "### Function Definitions"
   ]
  },
  {
   "cell_type": "code",
   "execution_count": 4,
   "id": "b90b8b57",
   "metadata": {},
   "outputs": [],
   "source": [
    "def get_new_times(range_tuple):\n",
    "    '''\n",
    "    Create a reformatted list of datetime values going from a range to a year-end value\n",
    "    \n",
    "    inputs:\n",
    "    range_tuple -- (int) a tuple containing the original start and end year.\n",
    "\n",
    "    outputs:\n",
    "    new_time_values -- (str) a string of the output name\n",
    "\n",
    "    '''\n",
    "    new_time_values = []\n",
    "    start_year = range_tuple[0]\n",
    "    end_year = range_tuple[1]\n",
    "    for year in range(start_year, end_year + 1):\n",
    "        new_time_values.append(pd.to_datetime(f\"{year}-12-31\"))\n",
    "        \n",
    "    return new_time_values\n",
    "\n",
    "\n",
    "def copy_raster(in_ras, out_ras, transpose=\"NO_TRANSPOSE\"):\n",
    "    '''\n",
    "    Use the arcpy GP tool to copy the input raster to netCDF format.\n",
    "    \n",
    "    inputs:\n",
    "    in_ras -- (str) The path to the source raster file to be copied.\n",
    "    out_ras -- (str) Output path of the netCDF copy.\n",
    "\n",
    "    outputs:\n",
    "    copy_result[0] -- [str] Path to the output netCDF file.\n",
    "    \n",
    "    '''\n",
    "    with arcpy.EnvManager(rasterStatistics=\"NONE\", snapRaster=in_ras, pyramid=\"NONE\"):\n",
    "        copy_result = arcpy.management.CopyRaster(\n",
    "            in_raster=in_ras,\n",
    "            out_rasterdataset=out_ras,\n",
    "            pixel_type=\"32_BIT_FLOAT\",\n",
    "            process_as_multidimensional=\"ALL_SLICES\",\n",
    "            build_multidimensional_transpose=transpose\n",
    "        )\n",
    "        \n",
    "    return copy_result[0]\n",
    "\n",
    "\n",
    "def stdtime_to_yearend(in_netcdf, new_time_values):\n",
    "    '''\n",
    "    Update the times in StdTime to replace ranges with year-end dates\n",
    "    '''\n",
    "    ds = xr.open_dataset(in_netcdf)\n",
    "    ds[\"StdTime\"] = new_time_values\n",
    "    \n",
    "    return ds"
   ]
  },
  {
   "cell_type": "code",
   "execution_count": 5,
   "id": "61cf19f7",
   "metadata": {},
   "outputs": [],
   "source": [
    "def main():\n",
    "    new_times = get_new_times(year_range)\n",
    "    for file in in_ras_list:\n",
    "        out_nc_name = os.path.basename(file).split(\".\")[0] + \"_temp.nc\"\n",
    "        out_nc_path = os.path.join(r\"C:\\temp\", out_nc_name)\n",
    "        print(f\"Copying {file} to netCDF ...\")\n",
    "        temp_nc = copy_raster(file, out_nc_path)\n",
    "\n",
    "        print(\"Updating StdTime ...\")\n",
    "        new_time_ras = stdtime_to_yearend(temp_nc, new_times)\n",
    "        new_nc_name = os.path.basename(file).split(\".\")[0] + \"_new.nc\"\n",
    "        new_nc_path = os.path.join(r\"C:\\temp\", new_nc_name)\n",
    "        print(f\"Writing updated raster to {new_nc_path} ...\")\n",
    "        new_time_ras.to_netcdf(new_nc_path)\n",
    "\n",
    "        print(f\"Copying updated raster to CRF at {file}\")\n",
    "        crf_copy = copy_raster(new_nc_path, file, \"TRANSPOSE\")\n",
    "\n",
    "        # print(\"Cleaning up ...\")\n",
    "        # arcpy.Delete_management(out_nc_path)\n",
    "        # arcpy.Delete_management(new_nc_path)\n",
    "    \n",
    "    print(\"Processing complete\")"
   ]
  },
  {
   "cell_type": "code",
   "execution_count": null,
   "id": "dd62991d",
   "metadata": {},
   "outputs": [],
   "source": [
    "if __name__ == \"__main__\":\n",
    "    main()"
   ]
  }
 ],
 "metadata": {
  "kernelspec": {
   "display_name": "arcgispro-py3",
   "language": "python",
   "name": "python3"
  },
  "language_info": {
   "codemirror_mode": {
    "name": "ipython",
    "version": 3
   },
   "file_extension": ".py",
   "mimetype": "text/x-python",
   "name": "python",
   "nbconvert_exporter": "python",
   "pygments_lexer": "ipython3",
   "version": "3.11.10"
  }
 },
 "nbformat": 4,
 "nbformat_minor": 5
}
